{
  "metadata": {
    "kernelspec": {
      "name": "python",
      "display_name": "Python (Pyodide)",
      "language": "python"
    },
    "language_info": {
      "codemirror_mode": {
        "name": "python",
        "version": 3
      },
      "file_extension": ".py",
      "mimetype": "text/x-python",
      "name": "python",
      "nbconvert_exporter": "python",
      "pygments_lexer": "ipython3",
      "version": "3.8"
    }
  },
  "nbformat_minor": 5,
  "nbformat": 4,
  "cells": [
    {
      "id": "69dec833-8ded-4e31-b258-92ba3700c412",
      "cell_type": "markdown",
      "source": "# PYTHON LIST COMPREHENSION\n\nTo demonstrate use cases of list comprehension, the following samples were made:\n1. Convert Celsius to Fahrenheit for temperatures above 0 degree Celsius.\n2. Extract valid numeric grades, categorize them (passing grade is >= 80).\n3. Extract words longer than 4 characters and reverse them.\n4. Extract valid emails addresses and collect their domains.\n5. Find numbers that are both even and a perfect square from 1-100.\n\nThe following class contains the function for every sample:",
      "metadata": {}
    },
    {
      "id": "14a1f48d-20b8-4caf-8d4d-af03f1750c74",
      "cell_type": "code",
      "source": "import re   # used for regex in LiCompre.get_email_domains(emails)\n\nclass LiCompre:    \n    @staticmethod\n    def convert_temp(temps: list[float]) -> list[float]:\n        to_fahrenheit = lambda celsius: (9/5) * celsius + 32\n        return [to_fahrenheit(temp) for temp in temps if temp > 0]\n\n    @staticmethod\n    def grade_check(grades: list[str]) -> list[str]:\n        grade_passed = lambda grade: 'Pass' if float(grade) >= 80 else 'Fail'\n        return [grade_passed(grade) for grade in grades if grade.isnumeric()]\n\n    @staticmethod\n    def reverse_words(string: str) -> list[str]:\n        reverse = lambda word: word[::-1]\n        return [reverse(word) for word in string.split() if len(word) > 4]\n\n    @staticmethod\n    def get_email_domains(emails: list[float]) -> list[float]:\n        email_regex = '^[a-zA-Z0-9][a-zA-Z0-9_.+%]*[a-zA-Z0-9_]*@[a-zA-Z0-9.-]+[.][a-zA-Z]{2,}$'\n        is_valid = lambda acc: re.search(email_regex, acc)\n        get_domain = lambda email: email[email.find('@') + 1:]\n        return [get_domain(email) for email in emails if is_valid(email)]\n\n    @staticmethod\n    def even_perfect_squares(limit: int = 100) -> list[int]:\n        is_perfect_square = lambda num: int(num**0.5) == num**0.5\n        is_even = lambda num: num % 2 == 0\n        return [num for num in range(1, limit + 1) if is_perfect_square(num) and is_even(num)]",
      "metadata": {
        "trusted": true
      },
      "outputs": [],
      "execution_count": 5
    },
    {
      "id": "9f6baeeb-da1d-4e92-91cb-8d4d5dd28f31",
      "cell_type": "markdown",
      "source": "### NOTE\nThe regex ```^[a-zA-Z0-9][a-zA-Z0-9_.+%]*[a-zA-Z0-9_]*@[a-zA-Z0-9.-]+[.][a-zA-Z]{2,}$``` shows the rules that a string must follow in order to become a VALID EMAIL ADDRESS. Particularly:\n\n1. There must be at least one character before the @ symbol\n2. The first character can only be an alphanumeric character or _ symbol\n3. The character before @ symbol cannot be .\n4. There should be exactly one @ symbol in an address\n5. Characters after @ can only be alphanumeric or any of these (. - _)\n6. The domain (which is the characters AFTER THE LAST .) must have at least 2 characters\n\nExecute the code below to test the samples for list comprehension",
      "metadata": {}
    },
    {
      "id": "75402820-6b3c-4257-926e-8aa72a5a1df4",
      "cell_type": "code",
      "source": "def unit_test() -> None:\n    print('=== LIST COMPREHENSION ===', end = \"\\n\\n\")\n    \n    temps = [-5, 0, 10, 25, 30, -2, 15, 35]\n    print('Celsius:', temps)\n    print('Fahrenheit:', LiCompre.convert_temp(temps), end = \"\\n\\n\")\n    \n    grades = ['85', 'invalid', '92', '78', '', '95', 'not_a_grade', '88']\n    print('Raw Grades:', grades)\n    print('Grade Results:', LiCompre.grade_check(grades), end = \"\\n\\n\")\n\n    string = \"The quick brown fox jumps over the lazy dog\"\n    print('Original:', string)\n    print('Reversed long words:', LiCompre.reverse_words(string), end = \"\\n\\n\")\n\n    emails = [\"user@gmail.com\", \"invalid-email\", \"test@yahoo.com\", \"bad@\", \"admin@company.org\", \"no-at-sign.com\"]\n    print('Emails:', emails)\n    print('Valid Domains:', LiCompre.get_email_domains(emails), end = \"\\n\\n\")\n\n    print('Even perfect squares (1,100):', LiCompre.even_perfect_squares())\n\nif __name__ == \"__main__\":\n    unit_test()",
      "metadata": {
        "trusted": true
      },
      "outputs": [
        {
          "name": "stdout",
          "output_type": "stream",
          "text": "=== LIST COMPREHENSION ===\n\nCelsius: [-5, 0, 10, 25, 30, -2, 15, 35]\nFahrenheit: [50.0, 77.0, 86.0, 59.0, 95.0]\n\nRaw Grades: ['85', 'invalid', '92', '78', '', '95', 'not_a_grade', '88']\nGrade Results: ['Pass', 'Pass', 'Fail', 'Pass', 'Pass']\n\nOriginal: The quick brown fox jumps over the lazy dog\nReversed long words: ['kciuq', 'nworb', 'spmuj']\n\nEmails: ['user@gmail.com', 'invalid-email', 'test@yahoo.com', 'bad@', 'admin@company.org', 'no-at-sign.com']\nValid Domains: ['gmail.com', 'yahoo.com', 'company.org']\n\nEven perfect squares (1,100): [4, 16, 36, 64, 100]\n"
        }
      ],
      "execution_count": 6
    },
    {
      "id": "c3d72e4a-5c74-4184-9844-0479b4de5eda",
      "cell_type": "code",
      "source": "",
      "metadata": {
        "trusted": true
      },
      "outputs": [],
      "execution_count": null
    }
  ]
}