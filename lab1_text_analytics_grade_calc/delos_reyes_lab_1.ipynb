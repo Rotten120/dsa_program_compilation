{
  "metadata": {
    "kernelspec": {
      "name": "python",
      "display_name": "Python (Pyodide)",
      "language": "python"
    },
    "language_info": {
      "codemirror_mode": {
        "name": "python",
        "version": 3
      },
      "file_extension": ".py",
      "mimetype": "text/x-python",
      "name": "python",
      "nbconvert_exporter": "python",
      "pygments_lexer": "ipython3",
      "version": "3.8"
    }
  },
  "nbformat_minor": 5,
  "nbformat": 4,
  "cells": [
    {
      "id": "a6b41c9b-8d0b-4fe9-8154-959e6709535b",
      "cell_type": "markdown",
      "source": "# TEXT ANALYSIS TOOL\n\nThe program is expected to execute the following functions to the given string:\n1. Count words,\n2. Count sentences (a sentence is assumed to end with '.', '?', or '!'),\n3. Count paragraphs (separated by double new lines \"\\n\\n\"),\n4. Identify most common word (ignore case),\n5. Calculate average word length, and\n6. Find words that has at least n characters\n\nThe text should be filtered from punctuations when counting words.\n\n",
      "metadata": {}
    },
    {
      "id": "6dcfb1c1-506f-44d9-baab-e2526d57f8d4",
      "cell_type": "markdown",
      "source": "In order to efficiently execute programs that targets words `tasks 1, 4, 5, 6`,\nit would be important to create first a parsed version of the text as a list,\nwhere each element contains a word that is cased based on user input",
      "metadata": {}
    },
    {
      "id": "fd70b367-6b6a-41b7-82a5-29a3190fe320",
      "cell_type": "code",
      "source": "def parse_text(text: str, cased: bool = False, cut_apos: bool = True) -> list[str]:\n    words = []\n    word = \"\"\n        \n    in_word, in_apos = False, False\n    for char in text:\n        apos_inword = not cut_apos and char == \"'\"\n        in_word = char.isalnum() or char == '-' or apos_inword\n        in_apos = (char == \"'\" or (in_apos and in_word)) and cut_apos\n\n        if in_word and not in_apos:\n            word += char\n\n        if not in_word and word != \"\":\n            if not cased:\n                word = word.lower()\n            words.append(word)\n            word = \"\"\n\n    if in_word and word != \"\":\n        if not cased:\n            word = word.lower()\n        words.append(word)\n    return words",
      "metadata": {
        "trusted": true
      },
      "outputs": [],
      "execution_count": 2
    },
    {
      "id": "8f9b670b-52a1-4151-a71c-7e3dadaa19be",
      "cell_type": "markdown",
      "source": "### parse_text(text, cased = False, cut_apos = False)\n\n#### DESCRIPTION:\nConverts a text of strings into a list of words with the separator\ncharacters being NOT Alphanumeric and a hyphen (-)\n\n#### PARAMETERS:\n__test__\n: String\n> Text that will be converted to list of words\n\n__cased__\n: Boolean, optional\n> It considers case sensitivity. A False value always converts the text to lowercase\n\n__cut_apos__\n: Boolean, optional\n> Handles how characters after an apostrophe character `'` is handled. If `True`, it will always cut the characters after the apostrophe until the next separator\n\n#### RETURNS:\n`list[str]`\n",
      "metadata": {}
    },
    {
      "id": "edccb104-5a96-4222-8535-d11b5c916a89",
      "cell_type": "markdown",
      "source": "Execute the following code to show how `parse_text` works",
      "metadata": {}
    },
    {
      "id": "a2ce6dfc-bf2f-4cbf-9743-63b139134a65",
      "cell_type": "code",
      "source": "text = \"Hello World!! This is a sample text\"\napos = \"Hello! This is Von's first laboratory submission\"\nmsg = \"This is my friend O'Niel. He wants to play with us.\"\n\nprint(\"Uncased:\", parse_text(text, False))\nprint(\"Cased:  \", parse_text(text, True))\nprint(\"With apos 1:       \", parse_text(apos))\nprint(\"With apos 2:       \", parse_text(msg))\nprint(\"With apos_cut=False\", parse_text(msg, cut_apos = False))",
      "metadata": {
        "trusted": true
      },
      "outputs": [
        {
          "name": "stdout",
          "output_type": "stream",
          "text": "Uncased: ['hello', 'world', 'this', 'is', 'a', 'sample', 'text']\nCased:   ['Hello', 'World', 'This', 'is', 'a', 'sample', 'text']\nWith apos 1:        ['hello', 'this', 'is', 'von', 'first', 'laboratory', 'submission']\nWith apos 2:        ['this', 'is', 'my', 'friend', 'o', 'he', 'wants', 'to', 'play', 'with', 'us']\nWith apos_cut=False ['this', 'is', 'my', 'friend', \"o'niel\", 'he', 'wants', 'to', 'play', 'with', 'us']\n"
        }
      ],
      "execution_count": 7
    },
    {
      "id": "f5f2d8bb-93ea-4bbb-bd3e-863446becf11",
      "cell_type": "markdown",
      "source": "It is reminded that the parse_text is used only for tasks 1, 4, 5, and 6\n1. Count Words\n4. Identify most common word\n5. Calculate average word length\n6. Find words that has at least n characters",
      "metadata": {}
    },
    {
      "id": "5c7a709a-aa41-43cb-8bf4-2a616433ff29",
      "cell_type": "markdown",
      "source": "## USING OOP FOR EXECUTING PROGRAMS\n\nIn order to make the code a bit organized, it will be encapsulated in a class called `Text Analysis`",
      "metadata": {}
    },
    {
      "id": "9df6eff5-6165-4395-8d09-a1ba3c3ec9c3",
      "cell_type": "code",
      "source": "class TextAnalysis:\n    def __init__(self, text: str, analyse: bool = False, min_length: int = -1):\n        self.text = text\n        self.parsed_text = parse_text(text)\n\n        if analyse:\n            if min_length < 1:\n                raise ValueError(\"analyse arg is True but no min_length arg is added\")\n            self.analyse_text(min_length)\n    \n    def analyse_text(self, min_length: int = 1) -> None:\n        print(\"=== TEXT ANALYSIS REPORT ===\")\n        print(\"Total Words:\", self.count_words())\n        print(\"Total Sentences:\", self.count_sentences())\n        print(\"Total Paragraphs:\", self.count_paragraphs())\n\n        most_common = self.most_common_word()\n        word = most_common[0]\n        occurs = most_common[1]\n        \n        print(f\"Most Common Word: \\\"{word}\\\" (appears {occurs} times)\")\n        print(f\"Average Word Length: %.2f characters\" % self.average_word_length())\n        print(f\"Words with at least {min_length} characters:\")\n        self.print_list(self.find_long_words(min_length), 5, 4)\n        \n    def count_words(self) -> int:\n        return len(self.parsed_text)\n\n    def count_sentences(self) -> int:\n        if self.text == \"\": return 0\n\n        stc_count = 0\n        in_stc = False\n\n        for char in self.text:\n            if char.isalnum():\n                in_stc = True\n            \n            if char in ['.', '?', '!'] and in_stc:\n                stc_count += 1\n                in_stc = False\n\n        return stc_count + 1 if in_stc else stc_count\n\n    def count_paragraphs(self) -> int:\n        if self.text == \"\": return 0\n\n        parag_count = 0\n        in_newline = False\n        in_parag = False\n\n        for char in self.text:\n            if char != '\\n':\n                in_parag = True\n                in_newline = False\n            \n            if char == '\\n':\n                if in_parag and in_newline:\n                    parag_count += 1\n                    in_parag = False\n                in_newline = True\n\n        return parag_count + 1 if in_parag else parag_count\n\n    def most_common_word(self) -> list | None:\n        if self.parsed_text == []:\n            return None\n        \n        word_count = {}\n\n        for word in self.parsed_text:\n            word = word.lower()\n            if word not in word_count:\n                word_count[word] = 0\n            word_count[word] += 1\n\n        common_word = \"\"\n        occur_count = -1\n        for word in word_count:\n            word_occurence = word_count[word]\n            if word_occurence > occur_count:\n                common_word = word\n                occur_count = word_occurence\n\n        return [common_word, occur_count]\n\n    def average_word_length(self) -> float:\n        total = 0\n        for word in self.parsed_text:\n            total += len(word)\n        return total / len(self.parsed_text)\n\n    def find_long_words(self, min_length: int) -> list[str]:\n        unique_words = set(self.parsed_text)\n        long_words = []\n        for word in unique_words:\n            if len(word) >= min_length:\n                long_words.append(word)\n        return long_words\n\n    @staticmethod\n    def print_list(li: list, col: int, indent: int = 0) -> None:\n        indentation = \" \" * indent\n        print(end = indentation)\n        for idx, it in enumerate(li):\n            print('\"%s\", ' % (it), end = \"\")\n            if (idx - (col - 1))% col == 0:\n                print(end = \"\\n\" + indentation)",
      "metadata": {
        "trusted": true
      },
      "outputs": [],
      "execution_count": 16
    },
    {
      "id": "ba54424a-e95b-4da8-bf5f-d8dcc229deb5",
      "cell_type": "markdown",
      "source": "Important Note: Execute the previous code blocks before the executing the code below",
      "metadata": {}
    },
    {
      "id": "80342893-80b9-43dc-bb36-4b7d237dc8c4",
      "cell_type": "code",
      "source": "sample_text = \"Python is a high-level programming language. It is known for its simplicity and readability.\\n\\\nPython supports multiple programming paradigms including procedural, object-oriented, and functional programming.\\n\\\n\\n\\\nMany developers choose Python for its extensive libraries and frameworks.\\n\\\nThe language is widely used in web development, data science, artificial intelligence, and automation.\\n\\\nPython's philosophy emphasizes code readability and simplicity!\"\n\nmin_length = 8\ntext_analysis = TextAnalysis(sample_text)\ntext_analysis.analyse_text(min_length)",
      "metadata": {
        "trusted": true
      },
      "outputs": [
        {
          "name": "stdout",
          "output_type": "stream",
          "text": "=== TEXT ANALYSIS REPORT ===\nTotal Words: 56\nTotal Sentences: 6\nTotal Paragraphs: 2\nMost Common Word: \"and\" (appears 5 times)\nAverage Word Length: 6.77 characters\nWords with at least 8 characters:\n    \"readability\", \"philosophy\", \"supports\", \"intelligence\", \"functional\", \n    \"programming\", \"extensive\", \"high-level\", \"multiple\", \"libraries\", \n    \"emphasizes\", \"procedural\", \"including\", \"frameworks\", \"simplicity\", \n    \"development\", \"language\", \"object-oriented\", \"paradigms\", \"artificial\", \n    \"developers\", \"automation\", "
        }
      ],
      "execution_count": 17
    },
    {
      "id": "6edd12f3-a7cc-415f-b6a0-83f0403c6bdf",
      "cell_type": "markdown",
      "source": "# Student Grade Calculator\n\nThe program is expected to:\n1. Calculate the average scores of each student,\n2. Get the corresponding grade assessment for each score",
      "metadata": {}
    },
    {
      "id": "9cfa8ac7-7c97-4588-9c85-aca83d2dcfda",
      "cell_type": "code",
      "source": "class GradeCalc:\n    @staticmethod\n    def get_grade_report(students: list[str], scores: list[list[int]], exam_count: int = -1) -> None:\n        if len(students) != len(scores):\n            raise TypeError(f\"Number of students ({len(students)}) does not match number of scores ({len(scores)})\")\n        \n        print(\"=== STUDENT GRADE REPORT ===\")\n        for student, score in zip(students, scores):\n            if exam_count > 0 and len(score) != exam_count:\n                raise ValueError(f\"{student} took {len(score)} exams, different to number of exams given ({exam_count}).\")\n            \n            spaces = \" \" * (9 - len(student))\n            ave = GradeCalc.calculate_average(score)\n            grd = GradeCalc.get_letter_grade(ave)\n            print(\"%s:%sAverage: %.2f Grade: %s\" % (student, spaces, ave, grd))\n    \n    @staticmethod\n    def calculate_average(scores: list[int]) -> float:\n        total = 0\n        for score in scores:\n            total += score\n        return total / len(scores)\n\n    @staticmethod\n    def get_letter_grade(average: float) -> chr:\n        grade_letter = {90: 'A', 80: 'B', 70: 'C', 60: 'D'}\n        for grade in grade_letter:\n            if average >= grade:\n                return grade_letter[grade]\n        return 'F'",
      "metadata": {
        "trusted": true
      },
      "outputs": [],
      "execution_count": null
    },
    {
      "id": "6661d293-b065-4240-aec0-2954ae2ad9c0",
      "cell_type": "markdown",
      "source": "### GradeCalc.get_grade_report(students, scores, exam_count = -1)\n\n#### DESCRIPTION:\nPrints the student grade report of each student in the list. It prints the:\n1. Average scores of each student\n2. The corresponding letter grade of the average calculated\n\n#### PARAMETERS:\n__students__\n: List[String]\n> List of names of students who took the exam\n\n__scores__\n: List[List[Integer]]\n> List of each student's scores for each exam. The nth element in `scores` correspond the score of student at nth index in `students`\n\n__exam_count__\n: Integer, Optional\n> Determines the number of exams taken. A positive value restricts the amount of exams per student to that value, otherwise ignores this filter\n\n#### RETURNS:\n`None`\n\n#### RAISES:\n> __TypeError__\n: number of students does not match number of scores `len(students) != len(scores)`\n\n> __ValueError__\n: `exam_count` is positive, and number of a student's exams does not match it `exam_count > 0 and exam_count != len(scores[idx])`",
      "metadata": {}
    },
    {
      "id": "c2e39041-6a26-46c1-9346-8bc91401a078",
      "cell_type": "markdown",
      "source": "After executing the code block above, you can test its output by executing the code block below",
      "metadata": {}
    },
    {
      "id": "e09be6dd-a1d8-430b-bb8f-6afa6ea079c6",
      "cell_type": "code",
      "source": "students = [\"Alice\", \"Bob\", \"Charlie\", \"Diana\", \"Eve\"]\nscores = [\n    [85, 92, 78, 94],    # Alice's scores\n    [76, 83, 91, 87],    # Bob's scores\n    [94, 89, 96, 93],    # Charlie's scores\n    [67, 74, 82, 79],    # Diana's scores\n    [88, 85, 90, 92]     # Eve's scores\n]\nGradeCalc.get_grade_report(students, scores, 4)",
      "metadata": {
        "trusted": true
      },
      "outputs": [
        {
          "name": "stdout",
          "output_type": "stream",
          "text": "=== STUDENT GRADE REPORT ===\nAlice:    Average: 87.25 Grade: B\nBob:      Average: 84.25 Grade: B\nCharlie:  Average: 93.00 Grade: A\nDiana:    Average: 75.50 Grade: C\nEve:      Average: 88.75 Grade: B\n"
        }
      ],
      "execution_count": 29
    }
  ]
}