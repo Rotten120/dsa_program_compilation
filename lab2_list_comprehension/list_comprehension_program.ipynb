{
 "cells": [
  {
   "cell_type": "markdown",
   "id": "dcf59fac",
   "metadata": {},
   "source": [
    "## Laboratory Exercise 2: List Comprehension\n",
    "### Deadline Oct 1, 2025\n",
    "### https://docs.google.com/forms/d/e/1FAIpQLSdGlKFXe7fNKe1ODweQ8xES8L6T3TO5SYGASiJejSnieEcwAw/viewform?usp=header\n",
    "\n",
    "\n",
    "1. Convert Celsius temperatures to Fahrenheit, only for temps above 0°C\n",
    "\n",
    "    Celsius: [-5, 0, 10, 25, 30, -2, 15, 35]\n",
    "\n",
    "    Fahrenheit (>0°C only): [50.0, 77.0, 86.0, 59.0, 95.0]\n",
    "\n",
    "2. Extract valid numeric grades and categorize them (passing graade is >=80)\n",
    "\n",
    "    Raw grades: ['85', 'invalid', '92', '78', '', '95', 'not_a_grade', '88']\n",
    "\n",
    "    Grade results: ['Pass', 'Pass', 'Fail', 'Pass',  'Pass']\n",
    "\n",
    "\n",
    "\n",
    "3. Extract words longer than 4 characters and reverse them\n",
    "\n",
    "    Original: The quick brown fox jumps over the lazy dog\n",
    "\n",
    "    Reversed long words: ['kciuq', 'nworb', 'spmuj']\n",
    "\n",
    "4.  Extract valid email addresses and get their domains\n",
    "\n",
    "    Emails: ['user@gmail.com', 'invalid-email', 'test@yahoo.com', 'bad@', 'admin@company.org', 'no-at-sign.com']\n",
    "\n",
    "    Valid domains: ['gmail.com', 'yahoo.com', 'company.org']\n",
    "\n",
    "5. Find perfect squares that are also even, within range 1-100\n",
    "\n",
    "    Even perfect squares (1-100): [4, 16, 36, 64, 100]\n",
    "\n",
    "\n",
    " "
   ]
  },
  {
   "cell_type": "code",
   "execution_count": 16,
   "id": "ba6f8fef",
   "metadata": {},
   "outputs": [
    {
     "name": "stdout",
     "output_type": "stream",
     "text": [
      "Fahrenheit (>0°C only): [50.0, 77.0, 86.0, 59.0, 95.0]\n"
     ]
    }
   ],
   "source": [
    "#First code: Celsius to Fahrenheit Temperature Conversion\n",
    "\n",
    "celsius_temperature = [-5, 0, 10, 25, 30, -2, 15, 35]\n",
    "\n",
    "fahrenheit_temperature = [(temp * 9/5) + 32 for temp in celsius_temperature if temp > 0]\n",
    "\n",
    "print(\"Fahrenheit (>0°C only):\", fahrenheit_temperature)"
   ]
  },
  {
   "cell_type": "code",
   "execution_count": null,
   "id": "5aa38926",
   "metadata": {},
   "outputs": [
    {
     "name": "stdout",
     "output_type": "stream",
     "text": [
      "Valid Grades: [85, 92, 78, 95, 88]\n",
      "Grade Results: ['Pass', 'Pass', 'Fail', 'Pass', 'Pass']\n"
     ]
    }
   ],
   "source": [
    "#Second code: Valid Grades and Grade Results (Pass or Fail)\n",
    "\n",
    "raw_grades = ['85', 'invalid', '92', '78', '', '95', 'not_a_grade', '88']\n",
    "\n",
    "valid_grades = [int(g) for g in raw_grades if g.isdigit()]\n",
    "\n",
    "grade_results = ['Pass' if grade >= 80 else 'Fail' for grade in valid_grades]\n",
    "\n",
    "print(\"Valid Grades:\", valid_grades)\n",
    "print(\"Grade Results:\", grade_results)"
   ]
  },
  {
   "cell_type": "code",
   "execution_count": null,
   "id": "164882f4",
   "metadata": {},
   "outputs": [
    {
     "name": "stdout",
     "output_type": "stream",
     "text": [
      "Reversed long words: ['kciuq', 'nworb', 'spmuj']\n"
     ]
    }
   ],
   "source": [
    "#Third code: Reversed Long Words Program\n",
    "\n",
    "sentence = \"The quick brown fox jumps over the lazy dog\"\n",
    "\n",
    "reversed_long_words = [word[::-1] for word in sentence.split() if len(word) > 4]\n",
    "\n",
    "print(\"Reversed long words:\", reversed_long_words)"
   ]
  },
  {
   "cell_type": "code",
   "execution_count": null,
   "id": "8cd1e66b",
   "metadata": {},
   "outputs": [
    {
     "name": "stdout",
     "output_type": "stream",
     "text": [
      "Valid domains: ['gmail.com', 'yahoo.com', 'company.org']\n"
     ]
    }
   ],
   "source": [
    "#Fourth code: Email Addresses and their Domains\n",
    "\n",
    "emails = ['user@gmail.com', 'invalid-email', 'test@yahoo.com', 'bad@', 'admin@company.org', 'no-at-sign.com']\n",
    "\n",
    "valid_domains = [\n",
    "    email.split('@')[1]\n",
    "    for email in emails\n",
    "    if '@' in email and email.count('@') == 1 and email.split('@')[1] != ''\n",
    "]\n",
    "\n",
    "print(\"Valid domains:\", valid_domains)"
   ]
  },
  {
   "cell_type": "code",
   "execution_count": null,
   "id": "486dc5e1",
   "metadata": {},
   "outputs": [
    {
     "name": "stdout",
     "output_type": "stream",
     "text": [
      "Even perfect squares (1-100): [4, 16, 36, 64, 100]\n"
     ]
    }
   ],
   "source": [
    "#Fifth code: Perfect Square (even only from 1-100)\n",
    "\n",
    "even_perfect_squares = [\n",
    "    num for num in range(1, 101)\n",
    "    if int(num**0.5) ** 2 == num and num % 2 == 0\n",
    "]\n",
    "\n",
    "print(\"Even perfect squares (1-100):\", even_perfect_squares)"
   ]
  }
 ],
 "metadata": {
  "kernelspec": {
   "display_name": ".venv",
   "language": "python",
   "name": "python3"
  },
  "language_info": {
   "codemirror_mode": {
    "name": "ipython",
    "version": 3
   },
   "file_extension": ".py",
   "mimetype": "text/x-python",
   "name": "python",
   "nbconvert_exporter": "python",
   "pygments_lexer": "ipython3",
   "version": "3.11.9"
  }
 },
 "nbformat": 4,
 "nbformat_minor": 5
}
