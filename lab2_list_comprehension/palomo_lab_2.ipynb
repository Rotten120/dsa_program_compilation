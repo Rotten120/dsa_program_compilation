{
 "cells": [
  {
   "cell_type": "markdown",
   "id": "11d829d2",
   "metadata": {},
   "source": [
    "# Python List Comprehensions:\n"
   ]
  },
  {
   "cell_type": "markdown",
   "id": "4f42fbf7",
   "metadata": {},
   "source": []
  },
  {
   "cell_type": "markdown",
   "id": "4442f894",
   "metadata": {},
   "source": [
    "## 1) What is a List Comprehension?\n",
    "A **list comprehension** is a concise way to build a list from an iterable.\n",
    "\n",
    "**General syntax:**\n",
    "\n",
    "\n",
    "# [ expression  for item in iterable  if condition ]\n",
    "\n",
    "- **expression** → what you put into the new list (often transforms `item`)\n",
    "- **for item in iterable** → where items come from (loop)\n",
    "- **if condition** *(optional)* → filter items (include only if True)"
   ]
  },
  {
   "cell_type": "code",
   "execution_count": null,
   "id": "910d24f3",
   "metadata": {},
   "outputs": [],
   "source": [
    "# Basic example\n",
    "squares = [x*x for x in range(5)]\n",
    "squares"
   ]
  },
  {
   "cell_type": "markdown",
   "id": "58cd1342",
   "metadata": {},
   "source": [
    "---\n",
    "## 2) Basic Transformations\n"
   ]
  },
  {
   "cell_type": "markdown",
   "id": "1c931a18",
   "metadata": {},
   "source": [
    "### 2.1 Map a function over items"
   ]
  },
  {
   "cell_type": "code",
   "execution_count": null,
   "id": "f310cadd",
   "metadata": {},
   "outputs": [],
   "source": [
    "names = [\"mal\", \"denver\", \"kai\",\"four\"]\n",
    "uppercased = [n.upper() for n in names if len(n)<4]\n",
    "uppercased"
   ]
  },
  {
   "cell_type": "markdown",
   "id": "88a4c223",
   "metadata": {},
   "source": [
    "### 2.2 Filter items"
   ]
  },
  {
   "cell_type": "code",
   "execution_count": null,
   "id": "351aa9d3",
   "metadata": {},
   "outputs": [],
   "source": [
    "nums = list(range(10))\n",
    "evens = [n for n in nums if n % 2 == 0]\n",
    "evens"
   ]
  },
  {
   "cell_type": "markdown",
   "id": "7a74ad23",
   "metadata": {},
   "source": [
    "### 2.3 Transform + filter together"
   ]
  },
  {
   "cell_type": "code",
   "execution_count": null,
   "id": "68bd55e7",
   "metadata": {},
   "outputs": [],
   "source": [
    "double_odds = [n*2 for n in nums if n % 2 == 1]\n",
    "double_odds"
   ]
  },
  {
   "cell_type": "code",
   "execution_count": null,
   "id": "041845b0",
   "metadata": {},
   "outputs": [],
   "source": [
    "labels = [\"even\"  if n % 2 == 0 else \"odd\" for n in range(6) if n % 3==0]\n",
    "labels"
   ]
  },
  {
   "cell_type": "markdown",
   "id": "2a2f700c",
   "metadata": {},
   "source": [
    "---\n",
    "## 4) Working with Indexes and Multiple Iterables"
   ]
  },
  {
   "cell_type": "markdown",
   "id": "a194ffee",
   "metadata": {},
   "source": [
    "### 4.1 With `enumerate`"
   ]
  },
  {
   "cell_type": "code",
   "execution_count": null,
   "id": "3b372a03",
   "metadata": {},
   "outputs": [],
   "source": [
    "data = [10, 20, 30]\n",
    "info = [f\"idx={i}, val={v}\" for i, v in enumerate(data)]\n",
    "info"
   ]
  },
  {
   "cell_type": "markdown",
   "id": "a895efc0",
   "metadata": {},
   "source": [
    "---\n",
    "## 5) Nested Loops & Cartesian Products"
   ]
  },
  {
   "cell_type": "markdown",
   "id": "e728447f",
   "metadata": {},
   "source": [
    "### 5.1 Two-level loops (read left → right)"
   ]
  },
  {
   "cell_type": "code",
   "execution_count": null,
   "id": "fc78651c",
   "metadata": {},
   "outputs": [],
   "source": [
    "colors = [\"red\", \"blue\"]\n",
    "sizes  = [\"S\", \"M\", \"L\"]\n",
    "variants = [(c, s) for c in colors for s in sizes]\n",
    "variants"
   ]
  },
  {
   "cell_type": "markdown",
   "id": "5b6fe489",
   "metadata": {},
   "source": [
    "### 5.2 With a condition across loops"
   ]
  },
  {
   "cell_type": "code",
   "execution_count": null,
   "id": "df65aec7",
   "metadata": {},
   "outputs": [],
   "source": [
    "pairs1 = [(i, j) for i in range(4) for j in range(4) if i + j == 3]\n",
    "pairs1"
   ]
  },
  {
   "cell_type": "code",
   "execution_count": null,
   "id": "6d544ad6",
   "metadata": {},
   "outputs": [],
   "source": [
    "pairs = {\"keypair\"+str(i):(i, j) for i in range(4) for j in range(4) if i + j == 3}\n",
    "        \n",
    "pairs"
   ]
  },
  {
   "cell_type": "markdown",
   "id": "de0332cc",
   "metadata": {},
   "source": [
    "---\n",
    "## 6) Flattening & 2D Data"
   ]
  },
  {
   "cell_type": "markdown",
   "id": "649d335e",
   "metadata": {},
   "source": [
    "### 6.1 Flatten a list of lists (one level)"
   ]
  },
  {
   "cell_type": "code",
   "execution_count": null,
   "id": "187655f8",
   "metadata": {},
   "outputs": [],
   "source": [
    "matrix = [[1,2,3],[4,5,6],[7,8,9]]\n",
    "flat = [x for row in matrix for x in row]\n",
    "flat\n"
   ]
  },
  {
   "cell_type": "markdown",
   "id": "56edc64c",
   "metadata": {},
   "source": [
    "---\n",
    "## 7) Cleaning and Parsing Patterns"
   ]
  },
  {
   "cell_type": "markdown",
   "id": "8a8a7242",
   "metadata": {},
   "source": [
    "### 7.1 Strip/normalize strings"
   ]
  },
  {
   "cell_type": "code",
   "execution_count": null,
   "id": "3373b99f",
   "metadata": {},
   "outputs": [],
   "source": [
    "raw = [\"  apple \", \"BANANA\", \"  Mango  \"]\n",
    "clean = [s.strip().lower() for s in raw]\n",
    "clean"
   ]
  },
  {
   "cell_type": "markdown",
   "id": "3ed3192d",
   "metadata": {},
   "source": [
    "### 7.2 Filter out null/empty strings"
   ]
  },
  {
   "cell_type": "code",
   "execution_count": null,
   "id": "c5fa3434",
   "metadata": {},
   "outputs": [],
   "source": [
    "vals = [\"10\", \"\", \"  \", None, \"7\"]\n",
    "clean_ints = [int(v) for v in vals if v and v.strip()]\n",
    "clean_ints"
   ]
  },
  {
   "cell_type": "code",
   "execution_count": null,
   "id": "d63c0443",
   "metadata": {},
   "outputs": [],
   "source": [
    "unique_first_letters = {w[0].lower() for w in [\"Red\",\"Rose\",\"Blue\",\"Berry\"]}\n",
    "unique_first_letters"
   ]
  },
  {
   "cell_type": "markdown",
   "id": "f6a31a29",
   "metadata": {},
   "source": [
    "---\n",
    "## Conclusion\n",
    "List comprehensions are a powerful Python feature that makes code more readable and efficient!\n",
    "\n",
    "---"
   ]
  },
  {
   "cell_type": "markdown",
   "id": "dcf59fac",
   "metadata": {},
   "source": [
    "## Laboratory Exercise 2: List Comprehension\n",
    "### Deadline Oct 1, 2025\n",
    "### https://docs.google.com/forms/d/e/1FAIpQLSdGlKFXe7fNKe1ODweQ8xES8L6T3TO5SYGASiJejSnieEcwAw/viewform?usp=header"
   ]
  },
  {
   "cell_type": "markdown",
   "id": "52c5d5a3",
   "metadata": {},
   "source": [
    "1. Convert Celsius temperatures to Fahrenheit, only for temps above 0°C\n",
    "\n",
    "    Celsius: [-5, 0, 10, 25, 30, -2, 15, 35]\n",
    "\n",
    "    Fahrenheit (>0°C only): [50.0, 77.0, 86.0, 59.0, 95.0]"
   ]
  },
  {
   "cell_type": "code",
   "execution_count": 2,
   "id": "d971675c",
   "metadata": {},
   "outputs": [
    {
     "name": "stdout",
     "output_type": "stream",
     "text": [
      "Fahrenheit (>0°C only): [50.0, 77.0, 86.0, 59.0, 95.0]\n"
     ]
    }
   ],
   "source": [
    "# List of celsius.\n",
    "celsius = [-5, 0, 10, 25, 30, -2, 15, 35]\n",
    "\n",
    "# Convert celsius to fahrenheit\n",
    "fahrenheit = [(value * 1.8) + 32 for value in celsius if value > 0]\n",
    "\n",
    "# Print result.\n",
    "print(F\"Fahrenheit (>0°C only): {fahrenheit}\")"
   ]
  },
  {
   "cell_type": "markdown",
   "id": "1ca4773b",
   "metadata": {},
   "source": [
    "2. Extract valid numeric grades and categorize them (passing graade is >=80)\n",
    "\n",
    "    Raw grades: ['85', 'invalid', '92', '78', '', '95', 'not_a_grade', '88']\n",
    "\n",
    "    Grade results: ['Pass', 'Pass', 'Fail', 'Pass',  'Pass']"
   ]
  },
  {
   "cell_type": "code",
   "execution_count": 3,
   "id": "ef6b60c4",
   "metadata": {},
   "outputs": [
    {
     "name": "stdout",
     "output_type": "stream",
     "text": [
      "Grade results: ['Pass', 'Pass', 'Fail', 'Pass', 'Pass']\n"
     ]
    }
   ],
   "source": [
    "# Raw grades.\n",
    "raw_grades = [\"85\", \"invalid\", \"92\", \"78\", \"\", \"95\", \"not_a_grade\", \"88\"]\n",
    "\n",
    "# Filtered out the numerical grades.\n",
    "numerical_grades = [int(grade) for grade in raw_grades if grade.isdigit()]\n",
    "\n",
    "# Decide if they pass or not.\n",
    "grade_results = [\"Pass\" if grade >= 80 else \"Fail\" for grade in numerical_grades]\n",
    "\n",
    "# Print result.\n",
    "print(f\"Grade results: {grade_results}\")"
   ]
  },
  {
   "cell_type": "markdown",
   "id": "d42376c9",
   "metadata": {},
   "source": [
    "3. Extract words longer than 4 characters and reverse them\n",
    "\n",
    "    Original: The quick brown fox jumps over the lazy dog\n",
    "\n",
    "    Reversed long words: ['kciuq', 'nworb', 'spmuj']"
   ]
  },
  {
   "cell_type": "code",
   "execution_count": null,
   "id": "e23bf530",
   "metadata": {},
   "outputs": [
    {
     "name": "stdout",
     "output_type": "stream",
     "text": [
      "['kciuq', 'nworb', 'spmuj']\n"
     ]
    }
   ],
   "source": [
    "# Original text.\n",
    "original = \"The quick brown fox jumps over the lazy dog\"\n",
    "\n",
    "# Filtered out and reversed the valid words.\n",
    "reversed_long = [word[::-1] for word in original.split() if len(word) > 4]\n",
    "\n",
    "# Print the result.\n",
    "print(f\"Reversed long words: {reversed_long}\")"
   ]
  },
  {
   "cell_type": "markdown",
   "id": "9849d717",
   "metadata": {},
   "source": [
    "4.  Extract valid email addresses and get their domains\n",
    "\n",
    "    Emails: ['user@gmail.com', 'invalid-email', 'test@yahoo.com', 'bad@', 'admin@company.org', 'no-at-sign.com']\n",
    "\n",
    "    Valid domains: ['gmail.com', 'yahoo.com', 'company.org']"
   ]
  },
  {
   "cell_type": "code",
   "execution_count": 4,
   "id": "11b8cbeb",
   "metadata": {},
   "outputs": [
    {
     "name": "stdout",
     "output_type": "stream",
     "text": [
      "Valid domains: ['gmail.com', 'yahoo.com', 'company.org']\n"
     ]
    }
   ],
   "source": [
    "# List of emails.\n",
    "emails = ['user@gmail.com','invalid-email','test@yahoo.com','bad@','admin@company.org','no-at-sign.com']\n",
    "\n",
    "# Filtered out the valid emails\n",
    "valid_emails = [email.split('@')[1] for email in emails if '@' in email and '.' in email.split('@')[-1]]\n",
    "\n",
    "# Print result\n",
    "print(f\"Valid domains: {valid_emails}\")"
   ]
  },
  {
   "cell_type": "markdown",
   "id": "68fdfbde",
   "metadata": {},
   "source": [
    "5. Find perfect squares that are also even, within range 1-100\n",
    "\n",
    "    Even perfect squares (1-100): [4, 16, 36, 64, 100]"
   ]
  },
  {
   "cell_type": "code",
   "execution_count": null,
   "id": "5604f7b8",
   "metadata": {},
   "outputs": [
    {
     "name": "stdout",
     "output_type": "stream",
     "text": [
      "Even perfect squares: [4, 16, 36, 64, 100]\n"
     ]
    }
   ],
   "source": [
    "# Find the even and get the square.\n",
    "even_perfect_squares = [number ** 2 for number in range(1, 101) if number % 2 == 0]\n",
    "\n",
    "# Filtered out the value in within the range.\n",
    "within_the_range = [ number for number in even_perfect_squares if number <= 100]\n",
    "\n",
    "# Print result\n",
    "print(f\"Even perfect squares (1-100): {within_the_range}\")"
   ]
  }
 ],
 "metadata": {
  "kernelspec": {
   "display_name": ".venv-1 (3.11.9)",
   "language": "python",
   "name": "python3"
  },
  "language_info": {
   "codemirror_mode": {
    "name": "ipython",
    "version": 3
   },
   "file_extension": ".py",
   "mimetype": "text/x-python",
   "name": "python",
   "nbconvert_exporter": "python",
   "pygments_lexer": "ipython3",
   "version": "3.11.9"
  }
 },
 "nbformat": 4,
 "nbformat_minor": 5
}
