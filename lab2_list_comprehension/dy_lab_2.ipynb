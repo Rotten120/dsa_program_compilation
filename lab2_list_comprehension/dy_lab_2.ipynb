{
 "cells": [
  {
   "cell_type": "code",
   "execution_count": 16,
   "id": "e5cd4713",
   "metadata": {},
   "outputs": [
    {
     "data": {
      "text/plain": [
       "'1. Convert Celsius temperatures to Fahrenheit, only for temps above 0°C\\n\\n    Celsius: [-5, 0, 10, 25, 30, -2, 15, 35]\\n\\n    Fahrenheit (>0°C only): [50.0, 77.0, 86.0, 59.0, 95.0]\\n\\n2. Extract valid numeric grades and categorize them (passing graade is >=80)\\n\\n    Raw grades: [\\'85\\', \\'invalid\\', \\'92\\', \\'78\\', \\'\\', \\'95\\', \\'not_a_grade\\', \\'88\\']\\n\\n    Grade results: [\\'Pass\\', \\'Pass\\', \\'Fail\\', \\'Pass\\',  \\'Pass\\']\\n\\n\\n\\n3. Extract words longer than 4 characters and reverse them\\n\\n    Original: The quick brown fox jumps over the lazy dog\\n\\n    Reversed long words: [\\'kciuq\\', \\'nworb\\', \\'spmuj\\']\\n\\n\"4.  Extract valid email addresses and get their domains\\n\\n    Emails: [\\'user@gmail.com\\', \\'invalid-email\\', \\'test@yahoo.com\\', \\'bad@\\', \\'admin@company.org\\', \\'no-at-sign.com\\']\\n\\n    Valid domains: [\\'gmail.com\\', \\'yahoo.com\\', \\'company.org\\']\\n\"\\n5. Find perfect squares that are also even, within range 1-100\\n\\n    Even perfect squares (1-100): [4, 16, 36, 64, 100]'"
      ]
     },
     "execution_count": 16,
     "metadata": {},
     "output_type": "execute_result"
    }
   ],
   "source": [
    "## Instructions:\n",
    "\n",
    "\"\"\"1. Convert Celsius temperatures to Fahrenheit, only for temps above 0°C\n",
    "\n",
    "    Celsius: [-5, 0, 10, 25, 30, -2, 15, 35]\n",
    "\n",
    "    Fahrenheit (>0°C only): [50.0, 77.0, 86.0, 59.0, 95.0]\n",
    "\n",
    "2. Extract valid numeric grades and categorize them (passing graade is >=80)\n",
    "\n",
    "    Raw grades: ['85', 'invalid', '92', '78', '', '95', 'not_a_grade', '88']\n",
    "\n",
    "    Grade results: ['Pass', 'Pass', 'Fail', 'Pass',  'Pass']\n",
    "\n",
    "\n",
    "\n",
    "3. Extract words longer than 4 characters and reverse them\n",
    "\n",
    "    Original: The quick brown fox jumps over the lazy dog\n",
    "\n",
    "    Reversed long words: ['kciuq', 'nworb', 'spmuj']\n",
    "\n",
    "\"4.  Extract valid email addresses and get their domains\n",
    "\n",
    "    Emails: ['user@gmail.com', 'invalid-email', 'test@yahoo.com', 'bad@', 'admin@company.org', 'no-at-sign.com']\n",
    "\n",
    "    Valid domains: ['gmail.com', 'yahoo.com', 'company.org']\n",
    "\"\n",
    "5. Find perfect squares that are also even, within range 1-100\n",
    "\n",
    "    Even perfect squares (1-100): [4, 16, 36, 64, 100]\"\"\""
   ]
  },
  {
   "cell_type": "code",
   "execution_count": 5,
   "id": "de7513f3",
   "metadata": {},
   "outputs": [
    {
     "name": "stdout",
     "output_type": "stream",
     "text": [
      "1. Get the farenheit temperature. \n",
      "2. Get the grades and equivalence. \n",
      "3. Extract long words. \n",
      "4. Extract valid domains. \n",
      "5. Get the even perfect squares from 0-100.\n",
      "Invalid Answer!\n",
      "[50.0, 77.0, 86.0, 59.0, 95.0]\n"
     ]
    }
   ],
   "source": [
    "class Menu:\n",
    "    def __init__(self):\n",
    "        self.temp = [-5, 0, 10, 25, 30, -2, 15, 35]\n",
    "        self.grades = ['85', 'invalid', '92', '78', '', '95', 'not_a_grade', '88']\n",
    "        self.words = \"The quick brown fox jumps over the lazy dog\"\n",
    "        self.domain = ['user@gmail.com', 'invalid-email', 'test@yahoo.com', 'bad@', 'admin@company.org', 'no-at-sign.com']\n",
    "        self.perfect = []\n",
    "\n",
    "    def get_farenheit(self):\n",
    "        \n",
    "        farenheit = [(9/5 * num) + 32 for num in self.temp if num > 0]\n",
    "        print(farenheit)\n",
    "\n",
    "    def grades_equivalence(self):\n",
    "        grades = []\n",
    "\n",
    "        for item in self.grades:\n",
    "            try:\n",
    "                num = int(item)\n",
    "                grades.append(num)\n",
    "            except ValueError:\n",
    "                continue\n",
    "\n",
    "        num_equi = [\"Pass\" if num >= 80 else \"Fail\" for num in grades]\n",
    "        print(num_equi)\n",
    "    \n",
    "                \n",
    "    def longer_words(self):\n",
    "        text = self.words.split()\n",
    "\n",
    "        reverse = [word[::-1] for word in text if len(word) > 4]\n",
    "        print(reverse)\n",
    "\n",
    "    def extract_domains(self):\n",
    "        valid_domains = [domain.split(\"@\")[1] for domain in self.domain if \"@\" in domain and \".\" in domain]\n",
    "        print(valid_domains)\n",
    "\n",
    "    def get_squares(self):\n",
    "\n",
    "        self.perfect = [num**2 for num in range(0, 11) if (num**2) % 2 == 0 and num != 0]\n",
    "        print(self.perfect)\n",
    "\n",
    "menu = Menu()\n",
    "\n",
    "print(\"1. Get the farenheit temperature. \\n2. Get the grades and equivalence. \\n3. Extract long words. \\n4. Extract valid domains. \\n5. Get the even perfect squares from 0-100.\")\n",
    "\n",
    "\n",
    "while True:\n",
    "    choice = int(input(\"Which program do you want to run?: \"))\n",
    "\n",
    "    if choice == 1:\n",
    "        menu.get_farenheit()\n",
    "        break\n",
    "    elif choice == 2:\n",
    "        menu.grades_equivalence()\n",
    "        break\n",
    "    elif choice == 3:\n",
    "        menu.longer_words()\n",
    "        break\n",
    "    elif choice == 4:\n",
    "        menu.extract_domains()\n",
    "        break\n",
    "    elif choice == 5:\n",
    "        menu.get_squares()\n",
    "        break\n",
    "    else:\n",
    "        print(\"Invalid Answer!\")\n",
    "        continue"
   ]
  },
  {
   "cell_type": "code",
   "execution_count": null,
   "id": "d588efd7",
   "metadata": {},
   "outputs": [],
   "source": []
  }
 ],
 "metadata": {
  "kernelspec": {
   "display_name": "Python 3",
   "language": "python",
   "name": "python3"
  },
  "language_info": {
   "codemirror_mode": {
    "name": "ipython",
    "version": 3
   },
   "file_extension": ".py",
   "mimetype": "text/x-python",
   "name": "python",
   "nbconvert_exporter": "python",
   "pygments_lexer": "ipython3",
   "version": "3.13.7"
  }
 },
 "nbformat": 4,
 "nbformat_minor": 5
}
