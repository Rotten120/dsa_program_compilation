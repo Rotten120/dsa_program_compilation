{
 "cells": [
  {
   "cell_type": "markdown",
   "id": "fa80e16d",
   "metadata": {},
   "source": [
    "1. Convert Celsius temperatures to Fahrenheit, only for temps above 0°C\n",
    "\n",
    "    Celsius: [-5, 0, 10, 25, 30, -2, 15, 35]\n",
    "\n",
    "    Fahrenheit (>0°C only): [50.0, 77.0, 86.0, 59.0, 95.0]"
   ]
  },
  {
   "cell_type": "code",
   "execution_count": null,
   "id": "85f0aac6",
   "metadata": {},
   "outputs": [
    {
     "name": "stdout",
     "output_type": "stream",
     "text": [
      "Fahrenheit (>0°C only): [50.0, 77.0, 86.0, 59.0, 95.0]\n"
     ]
    }
   ],
   "source": [
    "celsius = [-5, 0, 10, 25, 30, -2, 15, 35]\n",
    "\n",
    "show = [x * 9/5 + 32 for x in celsius if x > 0] #loops and converts Celcius to Fahrenheit if value > 0\n",
    "print(f\"Fahrenheit (>0°C only): {show}\")"
   ]
  },
  {
   "cell_type": "markdown",
   "id": "cf4e24a1",
   "metadata": {},
   "source": [
    "2. Extract valid numeric grades and categorize them (passing graade is >=80)\n",
    "\n",
    "    Raw grades: ['85', 'invalid', '92', '78', '', '95', 'not_a_grade', '88']\n",
    "\n",
    "    Grade results: ['Pass', 'Pass', 'Fail', 'Pass',  'Pass']"
   ]
  },
  {
   "cell_type": "code",
   "execution_count": null,
   "id": "5949f59a",
   "metadata": {},
   "outputs": [
    {
     "name": "stdout",
     "output_type": "stream",
     "text": [
      "Grade results: ['Pass', 'Pass', 'Fail', 'Pass', 'Pass']\n"
     ]
    }
   ],
   "source": [
    "raw_grade = ['85', 'invalid', '92', '78', '', '95', 'not_a_grade', '88']\n",
    "\n",
    "grade_list = [int(value) for value in raw_grade if value.isdigit()] #finds all valid grade\n",
    "pass_fail = [\"Pass\" if x >= 80 else \"Fail\" for x in grade_list]\n",
    "\n",
    "print(f\"Grade results: {pass_fail}\")"
   ]
  },
  {
   "cell_type": "markdown",
   "id": "3e9e961e",
   "metadata": {},
   "source": [
    "3. Extract words longer than 4 characters and reverse them\n",
    "\n",
    "    Original: The quick brown fox jumps over the lazy dog\n",
    "\n",
    "    Reversed long words: ['kciuq', 'nworb', 'spmuj']"
   ]
  },
  {
   "cell_type": "code",
   "execution_count": null,
   "id": "f01596e4",
   "metadata": {},
   "outputs": [
    {
     "name": "stdout",
     "output_type": "stream",
     "text": [
      "Reversed words: ['quick', 'brown', 'jumps']\n"
     ]
    }
   ],
   "source": [
    "reversed_words = ['kciuq', 'nworb', 'spmuj']\n",
    "fix_words = [word[::-1] for word in reversed_words] #[::-1] reverses str\n",
    "print(f\"Reversed words: {fix_words}\")"
   ]
  },
  {
   "cell_type": "markdown",
   "id": "52129b57",
   "metadata": {},
   "source": [
    "4.  Extract valid email addresses and get their domains\n",
    "\n",
    "    Emails: ['user@gmail.com', 'invalid-email', 'test@yahoo.com', 'bad@', 'admin@company.org', 'no-at-sign.com']\n",
    "\n",
    "    Valid domains: ['gmail.com', 'yahoo.com', 'company.org']"
   ]
  },
  {
   "cell_type": "code",
   "execution_count": null,
   "id": "2eb5e07a",
   "metadata": {},
   "outputs": [
    {
     "name": "stdout",
     "output_type": "stream",
     "text": [
      "Domains: ['gmail.com', 'yahoo.com', 'company.org']\n"
     ]
    }
   ],
   "source": [
    "emails = ['user@gmail.com', 'invalid-email', 'test@yahoo.com', 'bad@', 'admin@company.org', 'no-at-sign.com']\n",
    "\n",
    "#filters out invalid emails\n",
    "emails_w_at = [email for email in emails if \"@\" in email] #removes value without \"@\"\n",
    "emails_w_dot = [dot for dot in emails_w_at if \".\" in dot] #removes value without \".\"\n",
    "filtered_emails = [x.split(\"@\")[1] for x in emails_w_dot] #spilts into two words; returns 2 str\n",
    "print(f\"Domains: {filtered_emails}\")"
   ]
  },
  {
   "cell_type": "markdown",
   "id": "bdbf1f9f",
   "metadata": {},
   "source": [
    "5. Find perfect squares that are also even, within range 1-100\n",
    "\n",
    "    Even perfect squares (1-100): [4, 16, 36, 64, 100]"
   ]
  },
  {
   "cell_type": "code",
   "execution_count": 30,
   "id": "f408c280",
   "metadata": {},
   "outputs": [
    {
     "name": "stdout",
     "output_type": "stream",
     "text": [
      "Even perfect squares: [4, 16, 36, 64, 100]\n"
     ]
    }
   ],
   "source": [
    "perfect_squares = [x*x for x in range(1, 101) if x < 11 and x % 2 == 0]\n",
    "print(f\"Even perfect squares: {perfect_squares}\")"
   ]
  },
  {
   "cell_type": "code",
   "execution_count": null,
   "id": "ec12aea9",
   "metadata": {},
   "outputs": [
    {
     "name": "stdout",
     "output_type": "stream",
     "text": [
      "['12', '11', '1', '5', '7', '23']\n",
      "['1', '1', '1', '5', '7', '2']\n"
     ]
    }
   ],
   "source": [
    "num = [12, 11, 1, 5, 7, 23]\n",
    "\n",
    "cnvrt = [str(x) for x in num]\n",
    "count = [i[0] for i in cnvrt]\n",
    "\n",
    "print(cnvrt)\n",
    "print(count)"
   ]
  }
 ],
 "metadata": {
  "kernelspec": {
   "display_name": "Python 3",
   "language": "python",
   "name": "python3"
  },
  "language_info": {
   "codemirror_mode": {
    "name": "ipython",
    "version": 3
   },
   "file_extension": ".py",
   "mimetype": "text/x-python",
   "name": "python",
   "nbconvert_exporter": "python",
   "pygments_lexer": "ipython3",
   "version": "3.11.9"
  }
 },
 "nbformat": 4,
 "nbformat_minor": 5
}
